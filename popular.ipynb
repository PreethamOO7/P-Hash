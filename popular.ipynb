{
 "cells": [
  {
   "cell_type": "code",
   "execution_count": 16,
   "metadata": {},
   "outputs": [],
   "source": [
    "import pandas as pd\n",
    "\n",
    "import numpy as np\n",
    "\n",
    "import matplotlib.pyplot as plt\n",
    "\n",
    "from PIL import Image\n",
    "\n",
    "import requests\n",
    "\n",
    "from io import BytesIO\n",
    "import os\n",
    "import time\n",
    "import csv"
   ]
  },
  {
   "cell_type": "code",
   "execution_count": 3,
   "metadata": {},
   "outputs": [],
   "source": [
    "def get_url(image_asset):\n",
    "\n",
    "   image_asset = eval(image_asset)\n",
    "\n",
    "   return image_asset[\"original\"][\"uri\"]\n",
    "\n",
    "def get_image(url):\n",
    "\n",
    "   response = requests.get(url)\n",
    "\n",
    "   im = Image.open(BytesIO(response.content)).convert(\"RGB\")\n",
    "\n",
    "   im.thumbnail(size = [500,500])\n",
    "\n",
    "   #display(im)\n",
    "\n",
    "   return im"
   ]
  },
  {
   "cell_type": "code",
   "execution_count": 19,
   "metadata": {},
   "outputs": [
    {
     "name": "stdout",
     "output_type": "stream",
     "text": [
      "[('../udaan_csv/Mens_Wear', [], ['All Men s Wear.json', 'Inner Wear.json', 'Men s Jeans.json', 'Men s Shirts.json', 'Men s T shirts.json', 'Men s Wear.json', 'Popular Markets.json', 'Shorts 3 4ths.json', 'Sports Wear.json', 'Trousers Chinos.json', 'Wedding Wear.json', 'Winter Wear.json'])]\n"
     ]
    }
   ],
   "source": [
    "a=list(os.walk(\"../udaan_csv/Mens_Wear\"))\n",
    "print(a)"
   ]
  },
  {
   "cell_type": "code",
   "execution_count": 20,
   "metadata": {},
   "outputs": [],
   "source": [
    "data1=pd.read_csv(\"../udaan_csv/Mens_Wear/Popular Markets.json\",sep=\"\\t\")\n",
    "data2=pd.read_csv(\"../udaan_csv/Mens_Wear/All Men s Wear.json\",sep=\"\\t\")\n",
    "data3=pd.read_csv(\"../udaan_csv/Mens_Wear/Winter Wear.json\",sep=\"\\t\")\n",
    "data4=pd.read_csv(\"../udaan_csv/Mens_Wear/Wedding Wear.json\",sep=\"\\t\")\n",
    "data5=pd.read_csv(\"../udaan_csv/Mens_Wear/Men s Shirts.json\",sep=\"\\t\")\n",
    "data6=pd.read_csv(\"../udaan_csv/Mens_Wear/Men s T shirts.json\",sep=\"\\t\")\n",
    "data7=pd.read_csv(\"../udaan_csv/Mens_Wear/Men s Jeans.json\",sep=\"\\t\")\n",
    "data8=pd.read_csv(\"../udaan_csv/Mens_Wear/Trousers Chinos.json\",sep=\"\\t\")\n",
    "data9=pd.read_csv(\"../udaan_csv/Mens_Wear/Shorts 3 4ths.json\",sep=\"\\t\")\n",
    "data10=pd.read_csv(\"../udaan_csv/Mens_Wear/Sports Wear.json\",sep=\"\\t\")\n",
    "data11=pd.read_csv(\"../udaan_csv/Mens_Wear/Inner Wear.json\",sep=\"\\t\")\n",
    "#data12=pd.read_csv(\"../udaan_csv/Mens_Wear/Winter Wear.json\",sep=\"\\t\")"
   ]
  },
  {
   "cell_type": "code",
   "execution_count": 12,
   "metadata": {},
   "outputs": [],
   "source": [
    "data1[\"new_path\"] = \"aaa\"\n",
    "data2[\"new_path\"] = \"aaa\""
   ]
  },
  {
   "cell_type": "code",
   "execution_count": 6,
   "metadata": {},
   "outputs": [
    {
     "name": "stdout",
     "output_type": "stream",
     "text": [
      "33300\n"
     ]
    },
    {
     "ename": "FileNotFoundError",
     "evalue": "[Errno 2] No such file or directory: 'F:\\\\Popular_Markets\\\\pic_33300.jpg'",
     "output_type": "error",
     "traceback": [
      "\u001b[1;31m---------------------------------------------------------------------------\u001b[0m",
      "\u001b[1;31mFileNotFoundError\u001b[0m                         Traceback (most recent call last)",
      "\u001b[1;32m<ipython-input-6-3ae2928b92c0>\u001b[0m in \u001b[0;36m<module>\u001b[1;34m\u001b[0m\n\u001b[0;32m      6\u001b[0m \u001b[1;33m\u001b[0m\u001b[0m\n\u001b[0;32m      7\u001b[0m     \u001b[0mf\u001b[0m \u001b[1;33m=\u001b[0m \u001b[1;34m\"F:\\\\Popular_Markets\\\\\"\u001b[0m\u001b[1;33m+\u001b[0m\u001b[1;34m\"pic_\"\u001b[0m \u001b[1;33m+\u001b[0m \u001b[0mstr\u001b[0m\u001b[1;33m(\u001b[0m\u001b[0mi\u001b[0m\u001b[1;33m)\u001b[0m  \u001b[1;33m+\u001b[0m \u001b[1;34m\".jpg\"\u001b[0m\u001b[1;33m\u001b[0m\u001b[1;33m\u001b[0m\u001b[0m\n\u001b[1;32m----> 8\u001b[1;33m     \u001b[0mima\u001b[0m\u001b[1;33m.\u001b[0m\u001b[0msave\u001b[0m\u001b[1;33m(\u001b[0m\u001b[0mf\u001b[0m\u001b[1;33m)\u001b[0m\u001b[1;33m\u001b[0m\u001b[1;33m\u001b[0m\u001b[0m\n\u001b[0m\u001b[0;32m      9\u001b[0m     \u001b[0mdata\u001b[0m\u001b[1;33m[\u001b[0m\u001b[1;34m\"new_path\"\u001b[0m\u001b[1;33m]\u001b[0m\u001b[1;33m.\u001b[0m\u001b[0mloc\u001b[0m\u001b[1;33m[\u001b[0m\u001b[0mi\u001b[0m\u001b[1;33m]\u001b[0m \u001b[1;33m=\u001b[0m \u001b[0mf\u001b[0m\u001b[1;33m\u001b[0m\u001b[1;33m\u001b[0m\u001b[0m\n",
      "\u001b[1;32m~\\Anaconda3\\lib\\site-packages\\PIL\\Image.py\u001b[0m in \u001b[0;36msave\u001b[1;34m(self, fp, format, **params)\u001b[0m\n\u001b[0;32m   2002\u001b[0m                 \u001b[1;31m# Open also for reading (\"+\"), because TIFF save_all\u001b[0m\u001b[1;33m\u001b[0m\u001b[1;33m\u001b[0m\u001b[1;33m\u001b[0m\u001b[0m\n\u001b[0;32m   2003\u001b[0m                 \u001b[1;31m# writer needs to go back and edit the written data.\u001b[0m\u001b[1;33m\u001b[0m\u001b[1;33m\u001b[0m\u001b[1;33m\u001b[0m\u001b[0m\n\u001b[1;32m-> 2004\u001b[1;33m                 \u001b[0mfp\u001b[0m \u001b[1;33m=\u001b[0m \u001b[0mbuiltins\u001b[0m\u001b[1;33m.\u001b[0m\u001b[0mopen\u001b[0m\u001b[1;33m(\u001b[0m\u001b[0mfilename\u001b[0m\u001b[1;33m,\u001b[0m \u001b[1;34m\"w+b\"\u001b[0m\u001b[1;33m)\u001b[0m\u001b[1;33m\u001b[0m\u001b[1;33m\u001b[0m\u001b[0m\n\u001b[0m\u001b[0;32m   2005\u001b[0m \u001b[1;33m\u001b[0m\u001b[0m\n\u001b[0;32m   2006\u001b[0m         \u001b[1;32mtry\u001b[0m\u001b[1;33m:\u001b[0m\u001b[1;33m\u001b[0m\u001b[1;33m\u001b[0m\u001b[0m\n",
      "\u001b[1;31mFileNotFoundError\u001b[0m: [Errno 2] No such file or directory: 'F:\\\\Popular_Markets\\\\pic_33300.jpg'"
     ]
    }
   ],
   "source": [
    "for i in range(33300,33350):\n",
    "    ima= get_image(get_url(data[\"PrimaryImageAsset\"].loc[i]))\n",
    "    if(i%100==0):\n",
    "        #data.to_csv(\"../udaan_csv/Mens_Wear/W_Wear_with_new_path.csv\",index=False)\n",
    "        print(i)\n",
    "        \n",
    "    f = \"F:\\\\Popular_Markets\\\\\"+\"pic_\" + str(i)  + \".jpg\"\n",
    "    ima.save(f)\n",
    "    data[\"new_path\"].loc[i] = f"
   ]
  }
 ],
 "metadata": {
  "kernelspec": {
   "display_name": "Python 3",
   "language": "python",
   "name": "python3"
  },
  "language_info": {
   "codemirror_mode": {
    "name": "ipython",
    "version": 3
   },
   "file_extension": ".py",
   "mimetype": "text/x-python",
   "name": "python",
   "nbconvert_exporter": "python",
   "pygments_lexer": "ipython3",
   "version": "3.6.8"
  }
 },
 "nbformat": 4,
 "nbformat_minor": 2
}
